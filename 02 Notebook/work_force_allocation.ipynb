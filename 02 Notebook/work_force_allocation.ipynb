{
  "nbformat": 4,
  "nbformat_minor": 0,
  "metadata": {
    "colab": {
      "provenance": []
    },
    "kernelspec": {
      "name": "python3",
      "display_name": "Python 3"
    },
    "language_info": {
      "name": "python"
    }
  },
  "cells": [
    {
      "cell_type": "markdown",
      "source": [
        "# Optimizing Workforce Allocation using Machine Learning & Linear Programming"
      ],
      "metadata": {
        "id": "IPxtritgx7JO"
      }
    },
    {
      "cell_type": "markdown",
      "source": [
        "![picture](https://i.pinimg.com/736x/b2/6e/96/b26e969d6be61b4f6cefb30d35df70a6.jpg)"
      ],
      "metadata": {
        "id": "mEjK0V4L-_bJ"
      }
    },
    {
      "cell_type": "markdown",
      "source": [
        "# Introduction:\n",
        "\n",
        "In this use case, we explore the powerful combination of machine learning and linear programming to optimize workforce allocation. Our goal is to assign employees to tasks in a way that maximizes efficiency and ensures that tasks are completed by the most suitable employees. This involves calculating similarity between employee skills and task requirements, and then solving an optimization problem to allocate tasks while respecting constraints like employee availability and task priorities."
      ],
      "metadata": {
        "id": "bSgzu-FXyENg"
      }
    },
    {
      "cell_type": "code",
      "source": [
        "import pandas as pd\n",
        "import numpy as np\n",
        "import pulp\n",
        "from sklearn.feature_extraction.text import TfidfVectorizer\n",
        "from sklearn.metrics.pairwise import cosine_similarity\n",
        "import seaborn as sns\n",
        "import matplotlib.pyplot as plt"
      ],
      "metadata": {
        "id": "pKJGjx1X2LZG"
      },
      "execution_count": null,
      "outputs": []
    },
    {
      "cell_type": "markdown",
      "source": [
        "# **Step 1:** Loading the Employee and Task Data"
      ],
      "metadata": {
        "id": "a1guir4CABph"
      }
    },
    {
      "cell_type": "markdown",
      "source": [
        "![picture](https://i.pinimg.com/474x/7c/f1/ce/7cf1ce2784bb6c9ffeff0ca999e690b4.jpg)"
      ],
      "metadata": {
        "id": "O8sjy17SAHc4"
      }
    },
    {
      "cell_type": "markdown",
      "source": [
        "\n",
        "\n",
        "\n",
        "The first step involves loading the employee and task data from CSV files into pandas DataFrames. This data forms the foundation for our analysis and subsequent optimization. The employee_df contains information about each employee's skills, availability, and current workload, while the task_df contains details about the tasks, including required skills, task duration, and priority."
      ],
      "metadata": {
        "id": "KIcPzRziyP2Y"
      }
    },
    {
      "cell_type": "code",
      "source": [
        "employee_df= pd.read_csv('employee_data')\n",
        "task_df = pd.read_csv('task_data')"
      ],
      "metadata": {
        "id": "_BP8O3Kmvs13"
      },
      "execution_count": null,
      "outputs": []
    },
    {
      "cell_type": "markdown",
      "source": [
        "# **Step 2:** Calculating Skill Similarity Using Machine Learning"
      ],
      "metadata": {
        "id": "AOnAtU_LBrfa"
      }
    },
    {
      "cell_type": "markdown",
      "source": [
        "![picture](https://i.pinimg.com/736x/db/24/c7/db24c78cc537ecab0c65420671bf133b.jpg)"
      ],
      "metadata": {
        "id": "_aweJ3GBBxy1"
      }
    },
    {
      "cell_type": "markdown",
      "source": [
        "\n",
        "\n",
        "Here, we calculate the similarity between the skills required for tasks and the skills possessed by employees using the TF-IDF vectorizer and cosine similarity. The TF-IDF vectorizer converts the textual descriptions of skills into numerical vectors. The cosine similarity function then compares these vectors to determine how closely each employee's skills match the requirements of each task. The result is a similarity matrix, where higher values indicate a better match."
      ],
      "metadata": {
        "id": "lQ005cj0yiOC"
      }
    },
    {
      "cell_type": "code",
      "source": [
        "# Combine all required skills from the task_df to find the similarity index\n",
        "task_descriptions = task_df['Task Name'] + \": \" + task_df['Required Skills']\n",
        "employee_skills = employee_df['Skills']\n",
        "\n",
        "# Vectorize the skills and task descriptions\n",
        "vectorizer = TfidfVectorizer()\n",
        "task_matrix = vectorizer.fit_transform(task_descriptions)\n",
        "employee_matrix = vectorizer.transform(employee_skills)\n",
        "\n",
        "# Calculate the cosine similarity\n",
        "similarity_matrix = cosine_similarity(task_matrix, employee_matrix)\n",
        "\n",
        "# Convert the similarity matrix to a DataFrame for easier manipulation\n",
        "similarity_df = pd.DataFrame(similarity_matrix, index=task_df['Task ID'], columns=employee_df['Employee ID'])"
      ],
      "metadata": {
        "id": "EczgDdqvWZEN"
      },
      "execution_count": null,
      "outputs": []
    },
    {
      "cell_type": "markdown",
      "source": [
        "# **Step 3:** Formulating and Solving the Optimization Problem"
      ],
      "metadata": {
        "id": "jn-7K_5yEFYm"
      }
    },
    {
      "cell_type": "markdown",
      "source": [
        "![picture](https://i.pinimg.com/736x/7f/fe/9f/7ffe9f580ea27d32ecfd2f4a6bdb5c23.jpg)"
      ],
      "metadata": {
        "id": "OS9iPxOsEIXR"
      }
    },
    {
      "cell_type": "markdown",
      "source": [
        "\n",
        "\n",
        "**Explanation:** This cell initializes the workforce allocation problem using linear programming. The objective is to maximize the effective allocation of work hours across tasks, while considering task priorities and employee skill matching. Constraints ensure that tasks are assigned to employees who are available and sufficiently skilled, with a focus on maintaining workload balance.\n",
        "\n",
        "**Technical Insight:** Using PuLP, a linear programming package in Python, we define binary decision variables to indicate whether an employee is assigned to a task. The objective function and constraints are carefully crafted to reflect business rules and optimization goals, ensuring that the model maximizes productivity while respecting employee limits.\n",
        "\n",
        "**Business Impact:** This optimization ensures that business operations run smoothly by efficiently distributing work among employees, reducing the risk of overburdening or underutilizing staff, and aligning task assignments with strategic business priorities."
      ],
      "metadata": {
        "id": "1Rvon-4ty05A"
      }
    },
    {
      "cell_type": "code",
      "source": [
        "# Initialize the optimization problem\n",
        "prob = pulp.LpProblem(\"Workforce_Allocation\", pulp.LpMaximize)\n",
        "\n",
        "# Decision variables: Binary variables indicating whether an employee is assigned to a task\n",
        "x = pulp.LpVariable.dicts(\"x\", ((task, employee) for task in similarity_df.index for employee in similarity_df.columns), cat='Binary')\n",
        "\n",
        "# Objective function: Maximize the total hours allocated\n",
        "prob += pulp.lpSum([\n",
        "    x[task, employee] * task_df.loc[task_df['Task ID'] == task, 'Task Duration (hours)'].values[0] *\n",
        "    task_df.loc[task_df['Task ID'] == task, 'Task Priority'].values[0]\n",
        "    for task in task_df['Task ID']\n",
        "    for employee in employee_df['Employee ID']\n",
        "])\n",
        "\n",
        "# Constraints\n",
        "for task in task_df['Task ID']:\n",
        "    task_hours = task_df.loc[task_df['Task ID'] == task, 'Task Duration (hours)'].values[0]\n",
        "\n",
        "    # Maximum number of employees based on task duration\n",
        "    if task_hours < 10:\n",
        "        max_employees = 2\n",
        "    elif task_hours <= 30:\n",
        "        max_employees = 4\n",
        "    else:\n",
        "        max_employees = 8\n",
        "\n",
        "    # Ensure similarity is above 0.7 for task assignment\n",
        "    for employee in employee_df['Employee ID']:\n",
        "        if similarity_df.loc[task, employee] < 0.7:\n",
        "            prob += x[task, employee] == 0\n",
        "\n",
        "    prob += pulp.lpSum([x[task, employee] for employee in employee_df['Employee ID']]) <= max_employees\n",
        "    prob += pulp.lpSum([x[task, employee] for employee in employee_df['Employee ID']]) >= 1\n",
        "\n",
        "for employee in employee_df['Employee ID']:\n",
        "    # Calculate the total hours allocated to each employee across all tasks\n",
        "    total_allocated_hours = pulp.lpSum([\n",
        "        x[task, employee] * task_df.loc[task_df['Task ID'] == task, 'Task Duration (hours)'].values[0]\n",
        "        for task in task_df['Task ID']\n",
        "    ])\n",
        "\n",
        "    # Add the constraint that the total hours allocated to any employee cannot exceed their availability\n",
        "    prob += total_allocated_hours <= employee_df.loc[employee_df['Employee ID'] == employee, 'Availability (hours/week)'].values[0]\n",
        "\n",
        "\n",
        "\n",
        "\n",
        "# Solve the problem\n",
        "prob.solve()\n",
        "\n",
        "# Create a DataFrame to store the allocation results\n",
        "allocation_df = pd.DataFrame(0, index=task_df['Task ID'], columns=employee_df['Employee ID'])\n",
        "\n",
        "# Fill the DataFrame with the solved values\n",
        "for task in task_df['Task ID']:\n",
        "    for employee in employee_df['Employee ID']:\n",
        "        if pulp.value(x[task, employee]) > 0:\n",
        "            allocation_df.loc[task, employee] = pulp.value(x[task, employee]) * task_df.loc[task_df['Task ID'] == task, 'Task Duration (hours)'].values[0]\n"
      ],
      "metadata": {
        "colab": {
          "base_uri": "https://localhost:8080/"
        },
        "id": "EYE-yjYbWdYr",
        "outputId": "eef67aa7-d066-42d6-f8ed-5ab0c0a99e0b"
      },
      "execution_count": null,
      "outputs": [
        {
          "output_type": "stream",
          "name": "stderr",
          "text": [
            "<ipython-input-8-bb8a99be6fc9>:58: FutureWarning: Setting an item of incompatible dtype is deprecated and will raise in a future error of pandas. Value '5.000000099999999' has dtype incompatible with int64, please explicitly cast to a compatible dtype first.\n",
            "  allocation_df.loc[task, employee] = pulp.value(x[task, employee]) * task_df.loc[task_df['Task ID'] == task, 'Task Duration (hours)'].values[0]\n",
            "<ipython-input-8-bb8a99be6fc9>:58: FutureWarning: Setting an item of incompatible dtype is deprecated and will raise in a future error of pandas. Value '24.9999999' has dtype incompatible with int64, please explicitly cast to a compatible dtype first.\n",
            "  allocation_df.loc[task, employee] = pulp.value(x[task, employee]) * task_df.loc[task_df['Task ID'] == task, 'Task Duration (hours)'].values[0]\n",
            "<ipython-input-8-bb8a99be6fc9>:58: FutureWarning: Setting an item of incompatible dtype is deprecated and will raise in a future error of pandas. Value '1.000000005' has dtype incompatible with int64, please explicitly cast to a compatible dtype first.\n",
            "  allocation_df.loc[task, employee] = pulp.value(x[task, employee]) * task_df.loc[task_df['Task ID'] == task, 'Task Duration (hours)'].values[0]\n",
            "<ipython-input-8-bb8a99be6fc9>:58: FutureWarning: Setting an item of incompatible dtype is deprecated and will raise in a future error of pandas. Value '20.000000399999998' has dtype incompatible with int64, please explicitly cast to a compatible dtype first.\n",
            "  allocation_df.loc[task, employee] = pulp.value(x[task, employee]) * task_df.loc[task_df['Task ID'] == task, 'Task Duration (hours)'].values[0]\n"
          ]
        }
      ]
    },
    {
      "cell_type": "markdown",
      "source": [
        "![picture](https://i.pinimg.com/736x/cb/4f/a5/cb4fa5f445e7179192f3533a7651bd1d.jpg)"
      ],
      "metadata": {
        "id": "KLBrKjOtzF41"
      }
    },
    {
      "cell_type": "markdown",
      "source": [
        "# **Step 4:** Visualizing Task Allocation for Employees\n",
        "\n",
        "**Explanation:** This function visualizes the tasks assigned to a specific employee. It generates a horizontal bar chart showing the hours allocated to each task, making it easy to understand how an employee’s time is distributed across different tasks.\n",
        "\n",
        "**Technical Insight:** By using matplotlib to plot the data, we can quickly see the distribution of workload among tasks for any given employee. This visualization aids in identifying potential workload imbalances or areas where adjustments may be necessary.\n",
        "\n",
        "**Business Impact:** Visualization helps in communicating the allocation results to stakeholders, ensuring that decision-makers can see the impact of the optimization model on employee workload and task management."
      ],
      "metadata": {
        "id": "1bP0e_hXz0jI"
      }
    },
    {
      "cell_type": "code",
      "source": [
        "def plot_employee_tasks(employee_id):\n",
        "    employee_tasks = allocation_df.loc[:, employee_id]\n",
        "    assigned_tasks = employee_tasks[employee_tasks > 0]\n",
        "\n",
        "    plt.figure(figsize=(10, 6))\n",
        "    assigned_tasks.plot(kind='barh')\n",
        "    plt.title(f'Tasks Assigned to Employee {employee_id}')\n",
        "    plt.xlabel('Hours Allocated')\n",
        "    plt.ylabel('Task ID')\n",
        "\n",
        "    # Set x-axis limit to 40 hours\n",
        "    plt.xlim(0, 40)\n",
        "\n",
        "    plt.show()\n"
      ],
      "metadata": {
        "id": "rVjbIWqZWtNE"
      },
      "execution_count": null,
      "outputs": []
    },
    {
      "cell_type": "code",
      "source": [
        "plot_employee_tasks(employee_id=1)"
      ],
      "metadata": {
        "colab": {
          "base_uri": "https://localhost:8080/",
          "height": 564
        },
        "id": "mcRZyshtvNUT",
        "outputId": "b3c83fee-77f8-4dc1-fa6d-ad45ecd8b7ff"
      },
      "execution_count": null,
      "outputs": [
        {
          "output_type": "display_data",
          "data": {
            "text/plain": [
              "<Figure size 1000x600 with 1 Axes>"
            ],
            "image/png": "[encoded data removed]"
          },
          "metadata": {}
        }
      ]
    },
    {
      "cell_type": "code",
      "source": [
        "plot_employee_tasks(employee_id=10)"
      ],
      "metadata": {
        "colab": {
          "base_uri": "https://localhost:8080/",
          "height": 564
        },
        "id": "C_1mMUvTvTQ3",
        "outputId": "749953e2-8216-4088-96f8-d94182d331d2"
      },
      "execution_count": null,
      "outputs": [
        {
          "output_type": "display_data",
          "data": {
            "text/plain": [
              "<Figure size 1000x600 with 1 Axes>"
            ],
            "image/png": "[encoded data removed]"
          },
          "metadata": {}
        }
      ]
    }
  ]
}